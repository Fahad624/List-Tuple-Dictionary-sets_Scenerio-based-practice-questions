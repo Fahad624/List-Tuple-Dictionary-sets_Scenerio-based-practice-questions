{
 "cells": [
  {
   "cell_type": "markdown",
   "id": "0b2eba72-738c-4ba5-888b-91a34b1578ff",
   "metadata": {},
   "source": [
    "# Basic Data Structures in Python\n",
    "* 1- Tuple\n",
    "* 2- List \n",
    "* 3- Dictionaries\n",
    "* 4- Sets\""
   ]
  },
  {
   "cell_type": "markdown",
   "id": "11923269-132d-4c6d-89e6-aa68a60f5c13",
   "metadata": {},
   "source": [
    "## 3- Tuple\n",
    "* Oder collection of elements\n",
    "* Encloses in round braces or paranthesis\n",
    "* Different kind of elements can be stored\n",
    "* once elements are stored you can't change means unmutable"
   ]
  },
  {
   "cell_type": "code",
   "execution_count": 10,
   "id": "bfeb8503-00aa-4af8-803d-bddb4ae42344",
   "metadata": {},
   "outputs": [
    {
     "data": {
      "text/plain": [
       "(1, 'Python', True, 2.5)"
      ]
     },
     "execution_count": 10,
     "metadata": {},
     "output_type": "execute_result"
    }
   ],
   "source": [
    "tup1 = (1,\"Python\",True,2.5)\n",
    "tup1"
   ]
  },
  {
   "cell_type": "code",
   "execution_count": 5,
   "id": "19237a0b-919d-4e58-b4a4-aa3839398b9e",
   "metadata": {},
   "outputs": [
    {
     "data": {
      "text/plain": [
       "tuple"
      ]
     },
     "execution_count": 5,
     "metadata": {},
     "output_type": "execute_result"
    }
   ],
   "source": [
    "# Type of tup1\n",
    "type(tup1)"
   ]
  },
  {
   "cell_type": "markdown",
   "id": "ccdd8937-4f19-4e6d-b5de-45225613ed51",
   "metadata": {},
   "source": [
    "### Indexing in Tuple"
   ]
  },
  {
   "cell_type": "code",
   "execution_count": 6,
   "id": "818ee9d1-c0ef-42f4-a141-addee473bc4a",
   "metadata": {},
   "outputs": [
    {
     "data": {
      "text/plain": [
       "1"
      ]
     },
     "execution_count": 6,
     "metadata": {},
     "output_type": "execute_result"
    }
   ],
   "source": [
    "tup1[0]"
   ]
  },
  {
   "cell_type": "code",
   "execution_count": 7,
   "id": "e7d1d2e9-1427-4337-8a67-14fe79f108b5",
   "metadata": {},
   "outputs": [
    {
     "data": {
      "text/plain": [
       "'Pyhton'"
      ]
     },
     "execution_count": 7,
     "metadata": {},
     "output_type": "execute_result"
    }
   ],
   "source": [
    "tup1[1]"
   ]
  },
  {
   "cell_type": "code",
   "execution_count": 8,
   "id": "d9be4dc9-cabf-49bd-af2f-2b6677d49f51",
   "metadata": {},
   "outputs": [
    {
     "data": {
      "text/plain": [
       "0"
      ]
     },
     "execution_count": 8,
     "metadata": {},
     "output_type": "execute_result"
    }
   ],
   "source": [
    "tup1.count(\"p\")"
   ]
  },
  {
   "cell_type": "code",
   "execution_count": 11,
   "id": "1dc0e1be-8931-4412-9d98-6c5ce7fff591",
   "metadata": {},
   "outputs": [
    {
     "data": {
      "text/plain": [
       "1"
      ]
     },
     "execution_count": 11,
     "metadata": {},
     "output_type": "execute_result"
    }
   ],
   "source": [
    "tup1.count(\"Python\")"
   ]
  },
  {
   "cell_type": "code",
   "execution_count": 18,
   "id": "7bf4cac9-8a1e-4d8c-b6d3-4db50cb6cce6",
   "metadata": {},
   "outputs": [
    {
     "data": {
      "text/plain": [
       "0"
      ]
     },
     "execution_count": 18,
     "metadata": {},
     "output_type": "execute_result"
    }
   ],
   "source": [
    "tup1.index(True)"
   ]
  },
  {
   "cell_type": "code",
   "execution_count": 19,
   "id": "2fbac09d-8837-4fea-ad2d-24fa576839ab",
   "metadata": {},
   "outputs": [
    {
     "data": {
      "text/plain": [
       "(1, 'Python')"
      ]
     },
     "execution_count": 19,
     "metadata": {},
     "output_type": "execute_result"
    }
   ],
   "source": [
    "tup1[0:2]"
   ]
  },
  {
   "cell_type": "code",
   "execution_count": 20,
   "id": "80d3f3ee-390e-49ef-83d0-f98782afb7ac",
   "metadata": {},
   "outputs": [
    {
     "data": {
      "text/plain": [
       "(1, 'Python', True, 2.5)"
      ]
     },
     "execution_count": 20,
     "metadata": {},
     "output_type": "execute_result"
    }
   ],
   "source": [
    "tup1[0:4]"
   ]
  },
  {
   "cell_type": "markdown",
   "id": "0c8f7cd2-a173-48bf-9a8e-446d97429b8f",
   "metadata": {},
   "source": [
    "# "
   ]
  },
  {
   "cell_type": "code",
   "execution_count": 21,
   "id": "b0eb4681-00cd-4301-a8ee-5af996e6c993",
   "metadata": {},
   "outputs": [
    {
     "data": {
      "text/plain": [
       "True"
      ]
     },
     "execution_count": 21,
     "metadata": {},
     "output_type": "execute_result"
    }
   ],
   "source": [
    "tup1[-2]"
   ]
  },
  {
   "cell_type": "code",
   "execution_count": 25,
   "id": "fbef7a9f-ff73-4d0b-974d-6d55e178875a",
   "metadata": {},
   "outputs": [
    {
     "data": {
      "text/plain": [
       "'Python'"
      ]
     },
     "execution_count": 25,
     "metadata": {},
     "output_type": "execute_result"
    }
   ],
   "source": [
    "tup1[-3]"
   ]
  },
  {
   "cell_type": "code",
   "execution_count": 26,
   "id": "f4cbe2fb-e9af-4294-ab32-816be3641d57",
   "metadata": {},
   "outputs": [
    {
     "data": {
      "text/plain": [
       "1"
      ]
     },
     "execution_count": 26,
     "metadata": {},
     "output_type": "execute_result"
    }
   ],
   "source": [
    "tup1[-4]"
   ]
  },
  {
   "cell_type": "code",
   "execution_count": 27,
   "id": "241c5005-08a2-4455-b4d7-dd87baa05ee8",
   "metadata": {},
   "outputs": [
    {
     "data": {
      "text/plain": [
       "4"
      ]
     },
     "execution_count": 27,
     "metadata": {},
     "output_type": "execute_result"
    }
   ],
   "source": [
    "len(tup1)"
   ]
  },
  {
   "cell_type": "code",
   "execution_count": 28,
   "id": "764607b9-2c12-4f4f-80c2-19a9a8151cf4",
   "metadata": {},
   "outputs": [
    {
     "data": {
      "text/plain": [
       "(2, 'BabaAmmar', 3.5, False)"
      ]
     },
     "execution_count": 28,
     "metadata": {},
     "output_type": "execute_result"
    }
   ],
   "source": [
    "tup2=(2,\"BabaAmmar\",3.5,False)\n",
    "tup2"
   ]
  },
  {
   "cell_type": "code",
   "execution_count": 29,
   "id": "433a3637-fb1e-4512-8624-a7d32387a7fd",
   "metadata": {},
   "outputs": [
    {
     "data": {
      "text/plain": [
       "(1, 'Python', True, 2.5, 2, 'BabaAmmar', 3.5, False)"
      ]
     },
     "execution_count": 29,
     "metadata": {},
     "output_type": "execute_result"
    }
   ],
   "source": [
    "a=tup1+tup2\n",
    "a"
   ]
  },
  {
   "cell_type": "code",
   "execution_count": 30,
   "id": "684114b6-888e-4cdd-9d28-af50b175dafe",
   "metadata": {},
   "outputs": [
    {
     "data": {
      "text/plain": [
       "(2, 'BabaAmmar', 3.5, False, 1, 'Python', True, 2.5)"
      ]
     },
     "execution_count": 30,
     "metadata": {},
     "output_type": "execute_result"
    }
   ],
   "source": [
    "tup2+tup1"
   ]
  },
  {
   "cell_type": "code",
   "execution_count": 31,
   "id": "d330e772-cc36-4ac7-855e-accb928fd351",
   "metadata": {},
   "outputs": [
    {
     "data": {
      "text/plain": [
       "(1, 'Python', True, 2.5, 1, 'Python', True, 2.5, 2, 'BabaAmmar', 3.5, False)"
      ]
     },
     "execution_count": 31,
     "metadata": {},
     "output_type": "execute_result"
    }
   ],
   "source": [
    "tup1*2+tup2"
   ]
  },
  {
   "cell_type": "code",
   "execution_count": 32,
   "id": "26c7b312-c288-4182-80a0-9ad29a3c5951",
   "metadata": {},
   "outputs": [
    {
     "data": {
      "text/plain": [
       "(2,\n",
       " 'BabaAmmar',\n",
       " 3.5,\n",
       " False,\n",
       " 2,\n",
       " 'BabaAmmar',\n",
       " 3.5,\n",
       " False,\n",
       " 1,\n",
       " 'Python',\n",
       " True,\n",
       " 2.5)"
      ]
     },
     "execution_count": 32,
     "metadata": {},
     "output_type": "execute_result"
    }
   ],
   "source": [
    "tup2+tup2+tup1"
   ]
  },
  {
   "cell_type": "code",
   "execution_count": 37,
   "id": "5151e988-46c7-4cae-a0a1-2577d09a8745",
   "metadata": {},
   "outputs": [
    {
     "data": {
      "text/plain": [
       "(2,\n",
       " 'BabaAmmar',\n",
       " 3.5,\n",
       " False,\n",
       " 2,\n",
       " 'BabaAmmar',\n",
       " 3.5,\n",
       " False,\n",
       " 2,\n",
       " 'BabaAmmar',\n",
       " 3.5,\n",
       " False,\n",
       " 2,\n",
       " 'BabaAmmar',\n",
       " 3.5,\n",
       " False,\n",
       " 2,\n",
       " 'BabaAmmar',\n",
       " 3.5,\n",
       " False,\n",
       " 1,\n",
       " 'Python',\n",
       " True,\n",
       " 2.5)"
      ]
     },
     "execution_count": 37,
     "metadata": {},
     "output_type": "execute_result"
    }
   ],
   "source": [
    "tup2*5+tup1"
   ]
  },
  {
   "cell_type": "code",
   "execution_count": 39,
   "id": "3d8be9ee-900a-4cac-9eb4-62ab3fd419e5",
   "metadata": {},
   "outputs": [
    {
     "name": "stdout",
     "output_type": "stream",
     "text": [
      "1\n",
      "Python\n",
      "True\n",
      "2.5\n"
     ]
    }
   ],
   "source": [
    "for a in tup1:\n",
    "    print(a)"
   ]
  },
  {
   "cell_type": "code",
   "execution_count": 40,
   "id": "b3e38129-d061-4aa0-be38-9934051a697a",
   "metadata": {},
   "outputs": [
    {
     "name": "stdout",
     "output_type": "stream",
     "text": [
      "(1, 'Python', True, 2.5)\n",
      "(2, 'BabaAmmar', 3.5, False)\n"
     ]
    }
   ],
   "source": [
    "for b in tup1,tup2:\n",
    "    print(b)"
   ]
  },
  {
   "cell_type": "code",
   "execution_count": null,
   "id": "882c2a34-37bd-4660-9d9e-eef117967b55",
   "metadata": {},
   "outputs": [],
   "source": [
    "a=tup1\n",
    "count=0\n",
    "while(count<=5):\n",
    "    print(a)\n",
    "    count++"
   ]
  },
  {
   "cell_type": "code",
   "execution_count": null,
   "id": "9df4ea3e-9794-48d1-b9fe-ec9bb5826b74",
   "metadata": {},
   "outputs": [],
   "source": [
    "tup1"
   ]
  },
  {
   "cell_type": "code",
   "execution_count": 1,
   "id": "872a2dab-8c4d-4a8d-819b-4da2204a6cbd",
   "metadata": {},
   "outputs": [
    {
     "data": {
      "text/plain": [
       "(30, 50, 60, 70, 80, 90)"
      ]
     },
     "execution_count": 1,
     "metadata": {},
     "output_type": "execute_result"
    }
   ],
   "source": [
    "tup3 = (30,50,60,70,80,90)\n",
    "tup3"
   ]
  },
  {
   "cell_type": "code",
   "execution_count": 2,
   "id": "0d4c6739-8567-4242-9a51-3a9b853b1a54",
   "metadata": {},
   "outputs": [
    {
     "data": {
      "text/plain": [
       "30"
      ]
     },
     "execution_count": 2,
     "metadata": {},
     "output_type": "execute_result"
    }
   ],
   "source": [
    "min(tup3)"
   ]
  },
  {
   "cell_type": "code",
   "execution_count": 3,
   "id": "af947e00-9e17-4861-af35-662b407dbb72",
   "metadata": {},
   "outputs": [
    {
     "data": {
      "text/plain": [
       "90"
      ]
     },
     "execution_count": 3,
     "metadata": {},
     "output_type": "execute_result"
    }
   ],
   "source": [
    "max(tup3)"
   ]
  },
  {
   "cell_type": "code",
   "execution_count": 4,
   "id": "f7855220-e4ff-4fbc-938b-257cd8f80539",
   "metadata": {},
   "outputs": [
    {
     "data": {
      "text/plain": [
       "(30, 50, 60, 70, 80, 90, 30, 50, 60, 70, 80, 90, 30, 50, 60, 70, 80, 90)"
      ]
     },
     "execution_count": 4,
     "metadata": {},
     "output_type": "execute_result"
    }
   ],
   "source": [
    "tup3*3\n",
    "\n"
   ]
  },
  {
   "cell_type": "code",
   "execution_count": 8,
   "id": "76f94f0c-4149-437e-b639-b1b2c5b9cfaa",
   "metadata": {},
   "outputs": [
    {
     "data": {
      "text/plain": [
       "1"
      ]
     },
     "execution_count": 8,
     "metadata": {},
     "output_type": "execute_result"
    }
   ],
   "source": [
    "tup3.count(70)\n"
   ]
  },
  {
   "cell_type": "code",
   "execution_count": 11,
   "id": "ee238ffe-576c-4b7b-9214-470b80d7d7f3",
   "metadata": {},
   "outputs": [
    {
     "data": {
      "text/plain": [
       "(30, 50, 60, 70, 80, 90)"
      ]
     },
     "execution_count": 11,
     "metadata": {},
     "output_type": "execute_result"
    }
   ],
   "source": [
    "tup3"
   ]
  },
  {
   "cell_type": "markdown",
   "id": "1db0c837-f871-4c04-8831-d4694950a3e3",
   "metadata": {},
   "source": [
    "## 2- Lists\n",
    "- Oder collection of elements\n",
    "- Encloses in square braces\n",
    "- Mutable you can change values"
   ]
  },
  {
   "cell_type": "code",
   "execution_count": 44,
   "id": "dc77e6dc-da02-41d2-a4fc-f04560177ff5",
   "metadata": {},
   "outputs": [
    {
     "data": {
      "text/plain": [
       "[3, 'BabaAmmar', False]"
      ]
     },
     "execution_count": 44,
     "metadata": {},
     "output_type": "execute_result"
    }
   ],
   "source": [
    "list1=[3,\"BabaAmmar\",False]\n",
    "list1"
   ]
  },
  {
   "cell_type": "code",
   "execution_count": 14,
   "id": "6c1b8553-9389-4f67-a5f0-a70071e709a3",
   "metadata": {},
   "outputs": [
    {
     "data": {
      "text/plain": [
       "list"
      ]
     },
     "execution_count": 14,
     "metadata": {},
     "output_type": "execute_result"
    }
   ],
   "source": [
    "type(list1)"
   ]
  },
  {
   "cell_type": "code",
   "execution_count": 15,
   "id": "62563e27-ab52-434e-871a-b9d2205706dd",
   "metadata": {},
   "outputs": [
    {
     "data": {
      "text/plain": [
       "3"
      ]
     },
     "execution_count": 15,
     "metadata": {},
     "output_type": "execute_result"
    }
   ],
   "source": [
    "len(list1)"
   ]
  },
  {
   "cell_type": "code",
   "execution_count": 19,
   "id": "4249f60d-afb8-468f-86d3-9acf2bc51f64",
   "metadata": {},
   "outputs": [
    {
     "data": {
      "text/plain": [
       "3"
      ]
     },
     "execution_count": 19,
     "metadata": {},
     "output_type": "execute_result"
    }
   ],
   "source": [
    "list1[0]"
   ]
  },
  {
   "cell_type": "code",
   "execution_count": 22,
   "id": "9a72ce2b-7d03-4bbb-9759-008cab10d028",
   "metadata": {},
   "outputs": [
    {
     "data": {
      "text/plain": [
       "False"
      ]
     },
     "execution_count": 22,
     "metadata": {},
     "output_type": "execute_result"
    }
   ],
   "source": [
    "list1[2]"
   ]
  },
  {
   "cell_type": "code",
   "execution_count": 24,
   "id": "2735f666-4cf2-4c52-adf6-972beebac93c",
   "metadata": {},
   "outputs": [
    {
     "data": {
      "text/plain": [
       "[3, 'BabaAmmar', False, 3, 'BabaAmmar', False]"
      ]
     },
     "execution_count": 24,
     "metadata": {},
     "output_type": "execute_result"
    }
   ],
   "source": [
    "list1*2"
   ]
  },
  {
   "cell_type": "code",
   "execution_count": 25,
   "id": "2e406a6f-0a03-4081-8b60-4b2677b8806e",
   "metadata": {},
   "outputs": [
    {
     "data": {
      "text/plain": [
       "[3, 5, 'Ammar', 'codanics', 478, 53.2, False]"
      ]
     },
     "execution_count": 25,
     "metadata": {},
     "output_type": "execute_result"
    }
   ],
   "source": [
    "list2=[3,5,\"Ammar\",\"codanics\",478,53.2,False]\n",
    "list2"
   ]
  },
  {
   "cell_type": "code",
   "execution_count": 26,
   "id": "7e12267e-06da-4d6c-b606-66e34e61ac32",
   "metadata": {},
   "outputs": [
    {
     "data": {
      "text/plain": [
       "[3, 'BabaAmmar', False, 3, 5, 'Ammar', 'codanics', 478, 53.2, False]"
      ]
     },
     "execution_count": 26,
     "metadata": {},
     "output_type": "execute_result"
    }
   ],
   "source": [
    "list1+list2"
   ]
  },
  {
   "cell_type": "code",
   "execution_count": 27,
   "id": "40b4ad18-122a-47f7-81a4-38b1ea1f9d09",
   "metadata": {},
   "outputs": [
    {
     "data": {
      "text/plain": [
       "[3,\n",
       " 'BabaAmmar',\n",
       " False,\n",
       " 3,\n",
       " 'BabaAmmar',\n",
       " False,\n",
       " 3,\n",
       " 5,\n",
       " 'Ammar',\n",
       " 'codanics',\n",
       " 478,\n",
       " 53.2,\n",
       " False]"
      ]
     },
     "execution_count": 27,
     "metadata": {},
     "output_type": "execute_result"
    }
   ],
   "source": [
    "list1*2+list2"
   ]
  },
  {
   "cell_type": "code",
   "execution_count": 31,
   "id": "1a4b8031-d3be-46f1-82b9-728bb17dda36",
   "metadata": {},
   "outputs": [
    {
     "data": {
      "text/plain": [
       "[False, 'BabaAmmar', 3]"
      ]
     },
     "execution_count": 31,
     "metadata": {},
     "output_type": "execute_result"
    }
   ],
   "source": [
    "list1.reverse()\n",
    "list1"
   ]
  },
  {
   "cell_type": "code",
   "execution_count": 32,
   "id": "4bc811d7-803a-4634-bfa7-98f7f6441873",
   "metadata": {},
   "outputs": [
    {
     "data": {
      "text/plain": [
       "[False, 'BabaAmmar', 3]"
      ]
     },
     "execution_count": 32,
     "metadata": {},
     "output_type": "execute_result"
    }
   ],
   "source": [
    "list1"
   ]
  },
  {
   "cell_type": "code",
   "execution_count": 39,
   "id": "068d9594-8bc4-45d7-9d8f-cd341a884b57",
   "metadata": {},
   "outputs": [
    {
     "data": {
      "text/plain": [
       "[False,\n",
       " 'BabaAmmar',\n",
       " 3,\n",
       " 'Codanics_Youtube_channel',\n",
       " 'Codanics_Youtube_channel',\n",
       " 'Codanics_Youtube_channel',\n",
       " 'Codanics_Youtube_channel',\n",
       " 'Codanics_Youtube_channel',\n",
       " 'Codanics_Youtube_channel',\n",
       " 'Codanics_Youtube_channel']"
      ]
     },
     "execution_count": 39,
     "metadata": {},
     "output_type": "execute_result"
    }
   ],
   "source": [
    "list1.append(\"Codanics_Youtube_channel\")\n",
    "list1"
   ]
  },
  {
   "cell_type": "code",
   "execution_count": 40,
   "id": "17852a83-1019-422e-a97b-23c00c98ec3e",
   "metadata": {},
   "outputs": [
    {
     "data": {
      "text/plain": [
       "[False,\n",
       " 'BabaAmmar',\n",
       " 3,\n",
       " 'Codanics_Youtube_channel',\n",
       " 'Codanics_Youtube_channel',\n",
       " 'Codanics_Youtube_channel',\n",
       " 'Codanics_Youtube_channel',\n",
       " 'Codanics_Youtube_channel',\n",
       " 'Codanics_Youtube_channel',\n",
       " 'Codanics_Youtube_channel']"
      ]
     },
     "execution_count": 40,
     "metadata": {},
     "output_type": "execute_result"
    }
   ],
   "source": [
    "list1"
   ]
  },
  {
   "cell_type": "code",
   "execution_count": 41,
   "id": "425920ce-442f-48aa-81ee-bff4619314ac",
   "metadata": {},
   "outputs": [
    {
     "data": {
      "text/plain": [
       "10"
      ]
     },
     "execution_count": 41,
     "metadata": {},
     "output_type": "execute_result"
    }
   ],
   "source": [
    "len(list1)"
   ]
  },
  {
   "cell_type": "code",
   "execution_count": 42,
   "id": "39c2ac23-2ce5-48b0-add1-b6d1e1472b49",
   "metadata": {},
   "outputs": [
    {
     "data": {
      "text/plain": [
       "[]"
      ]
     },
     "execution_count": 42,
     "metadata": {},
     "output_type": "execute_result"
    }
   ],
   "source": [
    "list1.clear()\n",
    "list1\n"
   ]
  },
  {
   "cell_type": "code",
   "execution_count": 45,
   "id": "d1006d7e-0771-4c02-ab6b-e02e2dd2bfbb",
   "metadata": {},
   "outputs": [
    {
     "data": {
      "text/plain": [
       "[3, 'BabaAmmar', False]"
      ]
     },
     "execution_count": 45,
     "metadata": {},
     "output_type": "execute_result"
    }
   ],
   "source": [
    "list1"
   ]
  },
  {
   "cell_type": "code",
   "execution_count": 46,
   "id": "818caa47-1af9-450f-8eff-2bfe3eb4c130",
   "metadata": {},
   "outputs": [
    {
     "data": {
      "text/plain": [
       "[3, 'BabaAmmar', False]"
      ]
     },
     "execution_count": 46,
     "metadata": {},
     "output_type": "execute_result"
    }
   ],
   "source": [
    "list1.copy()\n",
    "list1"
   ]
  },
  {
   "cell_type": "code",
   "execution_count": 47,
   "id": "c446e1d7-c439-4c64-bd59-87bd122bd8dc",
   "metadata": {},
   "outputs": [
    {
     "data": {
      "text/plain": [
       "[3, 'BabaAmmar', False]"
      ]
     },
     "execution_count": 47,
     "metadata": {},
     "output_type": "execute_result"
    }
   ],
   "source": [
    "list1"
   ]
  },
  {
   "cell_type": "code",
   "execution_count": 49,
   "id": "f3328eba-aa5d-4fc2-91a5-b78c517f42ed",
   "metadata": {},
   "outputs": [
    {
     "data": {
      "text/plain": [
       "1"
      ]
     },
     "execution_count": 49,
     "metadata": {},
     "output_type": "execute_result"
    }
   ],
   "source": [
    "list1.count(False)\n"
   ]
  },
  {
   "cell_type": "code",
   "execution_count": 50,
   "id": "6de62bb8-fae0-4d3c-bd90-4133c134acec",
   "metadata": {},
   "outputs": [
    {
     "data": {
      "text/plain": [
       "[3, 'BabaAmmar', False, 'F', 'a', 'h', 'a', 'd']"
      ]
     },
     "execution_count": 50,
     "metadata": {},
     "output_type": "execute_result"
    }
   ],
   "source": [
    "list1.extend(\"Fahad\")\n",
    "list1"
   ]
  },
  {
   "cell_type": "code",
   "execution_count": 51,
   "id": "d444a5b1-2631-447b-9267-2b384b1386bd",
   "metadata": {},
   "outputs": [
    {
     "data": {
      "text/plain": [
       "[3, 'BabaAmmar', False, 'F', 'a', 'h', 'a', 'd']"
      ]
     },
     "execution_count": 51,
     "metadata": {},
     "output_type": "execute_result"
    }
   ],
   "source": [
    "list1"
   ]
  },
  {
   "cell_type": "code",
   "execution_count": 54,
   "id": "55aac8f0-334b-4430-9c1c-acdfef3096ae",
   "metadata": {},
   "outputs": [
    {
     "data": {
      "text/plain": [
       "4"
      ]
     },
     "execution_count": 54,
     "metadata": {},
     "output_type": "execute_result"
    }
   ],
   "source": [
    "list1.index('a')"
   ]
  },
  {
   "cell_type": "code",
   "execution_count": 62,
   "id": "7dfbd3fd-56f3-4383-ab1a-37974b15f985",
   "metadata": {},
   "outputs": [
    {
     "data": {
      "text/plain": [
       "['Ali', 3, 'BabaAmmar', 'Ahmad', False, 'F', 'a', 'h', 'a', 'd']"
      ]
     },
     "execution_count": 62,
     "metadata": {},
     "output_type": "execute_result"
    }
   ],
   "source": [
    "list1.insert(3,\"Ahmad\")\n",
    "list1"
   ]
  },
  {
   "cell_type": "code",
   "execution_count": 65,
   "id": "f4739a3d-6b0e-4296-89dd-af9438c6bd30",
   "metadata": {},
   "outputs": [
    {
     "data": {
      "text/plain": [
       "'F'"
      ]
     },
     "execution_count": 65,
     "metadata": {},
     "output_type": "execute_result"
    }
   ],
   "source": [
    "list1.pop(4)"
   ]
  },
  {
   "cell_type": "code",
   "execution_count": 76,
   "id": "2754c1ab-bbcf-4244-b924-ab82ac33893a",
   "metadata": {},
   "outputs": [
    {
     "data": {
      "text/plain": [
       "[3, 'BabaAmmar', 'Ahmad', 'a', 'h', 'a', 'd']"
      ]
     },
     "execution_count": 76,
     "metadata": {},
     "output_type": "execute_result"
    }
   ],
   "source": [
    "list1"
   ]
  },
  {
   "cell_type": "code",
   "execution_count": 77,
   "id": "50d774d8-7077-4655-bcb3-1843d8ef54a6",
   "metadata": {},
   "outputs": [],
   "source": [
    "list1.remove(3)"
   ]
  },
  {
   "cell_type": "code",
   "execution_count": 78,
   "id": "1dab4033-0d23-4910-8ef2-eb5f2c7dcf80",
   "metadata": {},
   "outputs": [
    {
     "data": {
      "text/plain": [
       "['BabaAmmar', 'Ahmad', 'a', 'h', 'a', 'd']"
      ]
     },
     "execution_count": 78,
     "metadata": {},
     "output_type": "execute_result"
    }
   ],
   "source": [
    "list1"
   ]
  },
  {
   "cell_type": "code",
   "execution_count": 80,
   "id": "362a16fa-1088-4175-bc79-27840ccd5136",
   "metadata": {},
   "outputs": [
    {
     "data": {
      "text/plain": [
       "['BabaAmmar', 'Ahmad', 'a', 'h', 'a', 'd']"
      ]
     },
     "execution_count": 80,
     "metadata": {},
     "output_type": "execute_result"
    }
   ],
   "source": [
    "list1"
   ]
  },
  {
   "cell_type": "code",
   "execution_count": 82,
   "id": "1b3b4982-bcef-4075-9cd8-fad1fcbffab5",
   "metadata": {},
   "outputs": [],
   "source": [
    "list1.remove(\"a\")"
   ]
  },
  {
   "cell_type": "code",
   "execution_count": 83,
   "id": "a2667b27-b10c-4c42-a30c-206a57d8ac28",
   "metadata": {},
   "outputs": [
    {
     "data": {
      "text/plain": [
       "['BabaAmmar', 'Ahmad', 'h', 'a', 'd']"
      ]
     },
     "execution_count": 83,
     "metadata": {},
     "output_type": "execute_result"
    }
   ],
   "source": [
    "list1"
   ]
  },
  {
   "cell_type": "code",
   "execution_count": 84,
   "id": "7f2e6246-8f12-4f07-b605-b5a946aaead6",
   "metadata": {},
   "outputs": [
    {
     "data": {
      "text/plain": [
       "['d', 'a', 'h', 'Ahmad', 'BabaAmmar']"
      ]
     },
     "execution_count": 84,
     "metadata": {},
     "output_type": "execute_result"
    }
   ],
   "source": [
    "list1.reverse()\n",
    "list1"
   ]
  },
  {
   "cell_type": "code",
   "execution_count": 85,
   "id": "d915ef28-5df3-46ec-b165-16d923326c08",
   "metadata": {},
   "outputs": [
    {
     "data": {
      "text/plain": [
       "['Ahmad', 'BabaAmmar', 'a', 'd', 'h']"
      ]
     },
     "execution_count": 85,
     "metadata": {},
     "output_type": "execute_result"
    }
   ],
   "source": [
    "list1.sort()\n",
    "list1"
   ]
  },
  {
   "cell_type": "code",
   "execution_count": 86,
   "id": "fa9ccb66-197d-4409-a9f5-8a23b7784ec6",
   "metadata": {},
   "outputs": [
    {
     "data": {
      "text/plain": [
       "[20, 35, 30, 40, 50, 60, 70, 80, 90, 100, 110]"
      ]
     },
     "execution_count": 86,
     "metadata": {},
     "output_type": "execute_result"
    }
   ],
   "source": [
    "list3=[20,35,30,40,50,60,70,80,90,100,110]\n",
    "list3"
   ]
  },
  {
   "cell_type": "code",
   "execution_count": 87,
   "id": "aa6fb9cb-2de5-4414-958d-2d2e673554ab",
   "metadata": {},
   "outputs": [
    {
     "data": {
      "text/plain": [
       "11"
      ]
     },
     "execution_count": 87,
     "metadata": {},
     "output_type": "execute_result"
    }
   ],
   "source": [
    "len(list3)"
   ]
  },
  {
   "cell_type": "code",
   "execution_count": 88,
   "id": "43080267-72a4-44d2-900e-0a89809891a5",
   "metadata": {},
   "outputs": [
    {
     "data": {
      "text/plain": [
       "[20, 30, 35, 40, 50, 60, 70, 80, 90, 100, 110]"
      ]
     },
     "execution_count": 88,
     "metadata": {},
     "output_type": "execute_result"
    }
   ],
   "source": [
    "list3.sort()\n",
    "list3\n"
   ]
  },
  {
   "cell_type": "code",
   "execution_count": 89,
   "id": "a3aaa80d-a43c-4953-8c19-d924b2c0f2f8",
   "metadata": {},
   "outputs": [
    {
     "data": {
      "text/plain": [
       "['Ahmad',\n",
       " 'BabaAmmar',\n",
       " 'a',\n",
       " 'd',\n",
       " 'h',\n",
       " 3,\n",
       " 5,\n",
       " 'Ammar',\n",
       " 'codanics',\n",
       " 478,\n",
       " 53.2,\n",
       " False,\n",
       " 20,\n",
       " 30,\n",
       " 35,\n",
       " 40,\n",
       " 50,\n",
       " 60,\n",
       " 70,\n",
       " 80,\n",
       " 90,\n",
       " 100,\n",
       " 110]"
      ]
     },
     "execution_count": 89,
     "metadata": {},
     "output_type": "execute_result"
    }
   ],
   "source": [
    "list1+list2+list3"
   ]
  },
  {
   "cell_type": "code",
   "execution_count": 90,
   "id": "e54b7438-76ca-4c0f-bc83-412aedc580c0",
   "metadata": {},
   "outputs": [
    {
     "data": {
      "text/plain": [
       "['Ahmad',\n",
       " 'BabaAmmar',\n",
       " 'a',\n",
       " 'd',\n",
       " 'h',\n",
       " 'Ahmad',\n",
       " 'BabaAmmar',\n",
       " 'a',\n",
       " 'd',\n",
       " 'h',\n",
       " 3,\n",
       " 5,\n",
       " 'Ammar',\n",
       " 'codanics',\n",
       " 478,\n",
       " 53.2,\n",
       " False,\n",
       " 20,\n",
       " 30,\n",
       " 35,\n",
       " 40,\n",
       " 50,\n",
       " 60,\n",
       " 70,\n",
       " 80,\n",
       " 90,\n",
       " 100,\n",
       " 110]"
      ]
     },
     "execution_count": 90,
     "metadata": {},
     "output_type": "execute_result"
    }
   ],
   "source": [
    "list1*2+list2+list3"
   ]
  },
  {
   "cell_type": "code",
   "execution_count": 91,
   "id": "001aac58-73a3-4d86-97c0-e627cf622338",
   "metadata": {},
   "outputs": [
    {
     "data": {
      "text/plain": [
       "['Ahmad',\n",
       " 'BabaAmmar',\n",
       " 'a',\n",
       " 'd',\n",
       " 'h',\n",
       " 3,\n",
       " 5,\n",
       " 'Ammar',\n",
       " 'codanics',\n",
       " 478,\n",
       " 53.2,\n",
       " False,\n",
       " 20,\n",
       " 30,\n",
       " 35,\n",
       " 40,\n",
       " 50,\n",
       " 60,\n",
       " 70,\n",
       " 80,\n",
       " 90,\n",
       " 100,\n",
       " 110]"
      ]
     },
     "execution_count": 91,
     "metadata": {},
     "output_type": "execute_result"
    }
   ],
   "source": [
    "lists=list1+list2+list3\n",
    "lists"
   ]
  },
  {
   "cell_type": "markdown",
   "id": "877d710a-a5b9-4a8d-98bd-e7d183bd2a4a",
   "metadata": {},
   "source": [
    "## 3- Dictionaries\n",
    "- Unordered collectionof elents\n",
    "- 2 things keys and values\n",
    "- curly braces and barkets are used\n",
    "- Mutatable or mutable or change the values\n",
    "  "
   ]
  },
  {
   "cell_type": "code",
   "execution_count": 3,
   "id": "1a47dd8e-718a-4b48-aab8-372de6f7717c",
   "metadata": {},
   "outputs": [
    {
     "data": {
      "text/plain": [
       "{'Samosa': 30, 'Pakora': 100, 'Raita': 20, 'Salad': 40, 'Chicken_Rolls': 30}"
      ]
     },
     "execution_count": 3,
     "metadata": {},
     "output_type": "execute_result"
    }
   ],
   "source": [
    "dict1={\"Samosa\":30,\"Pakora\":100,\"Raita\":20,\"Salad\":40,\"Chicken_Rolls\":30}\n",
    "dict1"
   ]
  },
  {
   "cell_type": "code",
   "execution_count": 93,
   "id": "ba915944-b536-447f-9322-e4f16a002018",
   "metadata": {},
   "outputs": [
    {
     "data": {
      "text/plain": [
       "dict"
      ]
     },
     "execution_count": 93,
     "metadata": {},
     "output_type": "execute_result"
    }
   ],
   "source": [
    "type(dict1)"
   ]
  },
  {
   "cell_type": "code",
   "execution_count": 94,
   "id": "8ba5b46e-0c61-46ed-ab85-f0c999dbfc07",
   "metadata": {},
   "outputs": [
    {
     "data": {
      "text/plain": [
       "5"
      ]
     },
     "execution_count": 94,
     "metadata": {},
     "output_type": "execute_result"
    }
   ],
   "source": [
    "len(dict1)"
   ]
  },
  {
   "cell_type": "code",
   "execution_count": 97,
   "id": "15b50484-5e6b-4b77-a38f-a2a93d5e8c88",
   "metadata": {},
   "outputs": [
    {
     "data": {
      "text/plain": [
       "dict_keys(['Samosa', 'Pakora', 'Raita', 'Salad', 'Chicken_Rolls'])"
      ]
     },
     "execution_count": 97,
     "metadata": {},
     "output_type": "execute_result"
    }
   ],
   "source": [
    "keys=dict1.keys()\n",
    "keys"
   ]
  },
  {
   "cell_type": "code",
   "execution_count": 98,
   "id": "7e4aedd2-1f04-45d8-9ca7-d6dfb10070b0",
   "metadata": {},
   "outputs": [
    {
     "data": {
      "text/plain": [
       "dict_values([30, 100, 20, 40, 30])"
      ]
     },
     "execution_count": 98,
     "metadata": {},
     "output_type": "execute_result"
    }
   ],
   "source": [
    "values=dict1.values()\n",
    "values"
   ]
  },
  {
   "cell_type": "code",
   "execution_count": 101,
   "id": "3f903c9e-6842-4e8e-9746-aa464a79240e",
   "metadata": {},
   "outputs": [
    {
     "data": {
      "text/plain": [
       "dict_keys(['Samosa', 'Pakora', 'Raita', 'Salad', 'Chicken_Rolls'])"
      ]
     },
     "execution_count": 101,
     "metadata": {},
     "output_type": "execute_result"
    }
   ],
   "source": [
    "keys\n"
   ]
  },
  {
   "cell_type": "code",
   "execution_count": 111,
   "id": "7edefe40-8986-449a-a365-928f3a9df5c1",
   "metadata": {},
   "outputs": [],
   "source": [
    "dict1[\"Tikki\"]=10"
   ]
  },
  {
   "cell_type": "code",
   "execution_count": 112,
   "id": "9586f048-5804-4404-8e3e-534d8d773c55",
   "metadata": {},
   "outputs": [
    {
     "data": {
      "text/plain": [
       "{'Samosa': 30,\n",
       " 'Pakora': 100,\n",
       " 'Raita': 20,\n",
       " 'Salad': 40,\n",
       " 'Chicken_Rolls': 30,\n",
       " 'Tikki': 10}"
      ]
     },
     "execution_count": 112,
     "metadata": {},
     "output_type": "execute_result"
    }
   ],
   "source": [
    "dict1"
   ]
  },
  {
   "cell_type": "code",
   "execution_count": 113,
   "id": "2a6070ac-7659-470c-88b0-7a0a0024c29c",
   "metadata": {},
   "outputs": [],
   "source": [
    "dict1[\"AlluTikki\"]=30"
   ]
  },
  {
   "cell_type": "code",
   "execution_count": 114,
   "id": "7995a2f2-6f94-429f-950c-c3656e44dfa5",
   "metadata": {},
   "outputs": [
    {
     "data": {
      "text/plain": [
       "{'Samosa': 30,\n",
       " 'Pakora': 100,\n",
       " 'Raita': 20,\n",
       " 'Salad': 40,\n",
       " 'Chicken_Rolls': 30,\n",
       " 'Tikki': 10,\n",
       " 'AlluTikki': 30}"
      ]
     },
     "execution_count": 114,
     "metadata": {},
     "output_type": "execute_result"
    }
   ],
   "source": [
    "dict1"
   ]
  },
  {
   "cell_type": "code",
   "execution_count": 115,
   "id": "7415af67-e1ea-4b58-ba95-d7653ac30e62",
   "metadata": {},
   "outputs": [],
   "source": [
    "dict1[\"Special Chat Masala\"]=40"
   ]
  },
  {
   "cell_type": "code",
   "execution_count": 116,
   "id": "6f981122-6c4f-4b05-86b5-e2317b5782e1",
   "metadata": {},
   "outputs": [
    {
     "data": {
      "text/plain": [
       "{'Samosa': 30,\n",
       " 'Pakora': 100,\n",
       " 'Raita': 20,\n",
       " 'Salad': 40,\n",
       " 'Chicken_Rolls': 30,\n",
       " 'Tikki': 10,\n",
       " 'AlluTikki': 30,\n",
       " 'Special Chat Masala': 40}"
      ]
     },
     "execution_count": 116,
     "metadata": {},
     "output_type": "execute_result"
    }
   ],
   "source": [
    "dict1"
   ]
  },
  {
   "cell_type": "code",
   "execution_count": 117,
   "id": "6bd92548-3123-4022-bb27-798a379c71c0",
   "metadata": {},
   "outputs": [],
   "source": [
    "dict1[\"Tikki\"]=50"
   ]
  },
  {
   "cell_type": "code",
   "execution_count": 118,
   "id": "0a6c9f06-5899-4b45-bc9a-4e14b0fef291",
   "metadata": {},
   "outputs": [
    {
     "data": {
      "text/plain": [
       "{'Samosa': 30,\n",
       " 'Pakora': 100,\n",
       " 'Raita': 20,\n",
       " 'Salad': 40,\n",
       " 'Chicken_Rolls': 30,\n",
       " 'Tikki': 50,\n",
       " 'AlluTikki': 30,\n",
       " 'Special Chat Masala': 40}"
      ]
     },
     "execution_count": 118,
     "metadata": {},
     "output_type": "execute_result"
    }
   ],
   "source": [
    "dict1"
   ]
  },
  {
   "cell_type": "code",
   "execution_count": 119,
   "id": "b1449041-6040-4f3a-933c-83796b0f4731",
   "metadata": {},
   "outputs": [
    {
     "data": {
      "text/plain": [
       "{'Samosa': 30,\n",
       " 'Pakora': 100,\n",
       " 'Raita': 20,\n",
       " 'Salad': 40,\n",
       " 'Chicken_Rolls': 30,\n",
       " 'Tikki': 50,\n",
       " 'AlluTikki': 35,\n",
       " 'Special Chat Masala': 40}"
      ]
     },
     "execution_count": 119,
     "metadata": {},
     "output_type": "execute_result"
    }
   ],
   "source": [
    "dict1[\"AlluTikki\"]=35\n",
    "dict1"
   ]
  },
  {
   "cell_type": "code",
   "execution_count": 120,
   "id": "40a01436-a493-4121-a063-b56a4fcc9252",
   "metadata": {},
   "outputs": [
    {
     "data": {
      "text/plain": [
       "{'Samosa': 30,\n",
       " 'Pakora': 100,\n",
       " 'Raita': 30,\n",
       " 'Salad': 40,\n",
       " 'Chicken_Rolls': 30,\n",
       " 'Tikki': 50,\n",
       " 'AlluTikki': 35,\n",
       " 'Special Chat Masala': 40}"
      ]
     },
     "execution_count": 120,
     "metadata": {},
     "output_type": "execute_result"
    }
   ],
   "source": [
    "dict1[\"Raita\"]=30\n",
    "dict1"
   ]
  },
  {
   "cell_type": "code",
   "execution_count": 4,
   "id": "7598a689-161c-448c-a551-97b885ed0069",
   "metadata": {},
   "outputs": [
    {
     "data": {
      "text/plain": [
       "{'Dates': 50, 'Chocoltes': 200, 'Sweya': 1000}"
      ]
     },
     "execution_count": 4,
     "metadata": {},
     "output_type": "execute_result"
    }
   ],
   "source": [
    "dict2={\"Dates\":50,\"Chocoltes\":200,\"Sweya\":1000}\n",
    "dict2"
   ]
  },
  {
   "cell_type": "code",
   "execution_count": 125,
   "id": "63c53f58-8b9e-4fea-8112-6ba91d24dc3d",
   "metadata": {},
   "outputs": [
    {
     "data": {
      "text/plain": [
       "{'Samosa': 30,\n",
       " 'Pakora': 100,\n",
       " 'Raita': 30,\n",
       " 'Salad': 40,\n",
       " 'Chicken_Rolls': 30,\n",
       " 'Tikki': 50,\n",
       " 'AlluTikki': 35,\n",
       " 'Special Chat Masala': 40}"
      ]
     },
     "execution_count": 125,
     "metadata": {},
     "output_type": "execute_result"
    }
   ],
   "source": [
    "dict1"
   ]
  },
  {
   "cell_type": "code",
   "execution_count": 128,
   "id": "3005f686-9e64-47ea-95be-d9194d895508",
   "metadata": {},
   "outputs": [
    {
     "data": {
      "text/plain": [
       "{'Dates': 50, 'Chocoltes': 200, 'Sweya': 1000}"
      ]
     },
     "execution_count": 128,
     "metadata": {},
     "output_type": "execute_result"
    }
   ],
   "source": [
    "dict2"
   ]
  },
  {
   "cell_type": "code",
   "execution_count": 130,
   "id": "eb7cb56d-2410-46b0-9cbb-ff9bdf3073bc",
   "metadata": {},
   "outputs": [
    {
     "data": {
      "text/plain": [
       "{'Samosa': 30,\n",
       " 'Pakora': 100,\n",
       " 'Raita': 30,\n",
       " 'Salad': 40,\n",
       " 'Chicken_Rolls': 30,\n",
       " 'Tikki': 50,\n",
       " 'AlluTikki': 35,\n",
       " 'Special Chat Masala': 40,\n",
       " 'Dates': 50,\n",
       " 'Chocoltes': 200,\n",
       " 'Sweya': 1000}"
      ]
     },
     "execution_count": 130,
     "metadata": {},
     "output_type": "execute_result"
    }
   ],
   "source": [
    "dict1.update(dict2)\n",
    "dict1"
   ]
  },
  {
   "cell_type": "code",
   "execution_count": 131,
   "id": "2509fa91-b17d-42c5-ac05-ba26366598bc",
   "metadata": {},
   "outputs": [
    {
     "data": {
      "text/plain": [
       "{'Samosa': 30,\n",
       " 'Pakora': 100,\n",
       " 'Raita': 30,\n",
       " 'Salad': 40,\n",
       " 'Chicken_Rolls': 30,\n",
       " 'Tikki': 50,\n",
       " 'AlluTikki': 35,\n",
       " 'Special Chat Masala': 40,\n",
       " 'Dates': 50,\n",
       " 'Chocoltes': 200,\n",
       " 'Sweya': 1000}"
      ]
     },
     "execution_count": 131,
     "metadata": {},
     "output_type": "execute_result"
    }
   ],
   "source": [
    "dict1.copy()"
   ]
  },
  {
   "cell_type": "code",
   "execution_count": 132,
   "id": "41de7d4b-ed50-46d5-80d8-62f94d05323c",
   "metadata": {},
   "outputs": [
    {
     "data": {
      "text/plain": [
       "{'Samosa': 30,\n",
       " 'Pakora': 100,\n",
       " 'Raita': 30,\n",
       " 'Salad': 40,\n",
       " 'Chicken_Rolls': 30,\n",
       " 'Tikki': 50,\n",
       " 'AlluTikki': 35,\n",
       " 'Special Chat Masala': 40,\n",
       " 'Dates': 50,\n",
       " 'Chocoltes': 200,\n",
       " 'Sweya': 1000}"
      ]
     },
     "execution_count": 132,
     "metadata": {},
     "output_type": "execute_result"
    }
   ],
   "source": [
    "dict1"
   ]
  },
  {
   "cell_type": "code",
   "execution_count": 134,
   "id": "c6983018-75a7-4250-ae3d-0c9ebee6af9c",
   "metadata": {},
   "outputs": [
    {
     "data": {
      "text/plain": [
       "{'Samosa': dict_values([30, 100, 30, 40, 30, 50, 35, 40, 50, 200, 1000]),\n",
       " 'Pakora': dict_values([30, 100, 30, 40, 30, 50, 35, 40, 50, 200, 1000]),\n",
       " 'Raita': dict_values([30, 100, 30, 40, 30, 50, 35, 40, 50, 200, 1000]),\n",
       " 'Salad': dict_values([30, 100, 30, 40, 30, 50, 35, 40, 50, 200, 1000]),\n",
       " 'Chicken_Rolls': dict_values([30, 100, 30, 40, 30, 50, 35, 40, 50, 200, 1000]),\n",
       " 'Tikki': dict_values([30, 100, 30, 40, 30, 50, 35, 40, 50, 200, 1000]),\n",
       " 'AlluTikki': dict_values([30, 100, 30, 40, 30, 50, 35, 40, 50, 200, 1000]),\n",
       " 'Special Chat Masala': dict_values([30, 100, 30, 40, 30, 50, 35, 40, 50, 200, 1000]),\n",
       " 'Dates': dict_values([30, 100, 30, 40, 30, 50, 35, 40, 50, 200, 1000]),\n",
       " 'Chocoltes': dict_values([30, 100, 30, 40, 30, 50, 35, 40, 50, 200, 1000]),\n",
       " 'Sweya': dict_values([30, 100, 30, 40, 30, 50, 35, 40, 50, 200, 1000])}"
      ]
     },
     "execution_count": 134,
     "metadata": {},
     "output_type": "execute_result"
    }
   ],
   "source": [
    "dict1.fromkeys(keys,values)"
   ]
  },
  {
   "cell_type": "code",
   "execution_count": 135,
   "id": "6c27c64e-c66f-4d75-b7d3-248c93c13956",
   "metadata": {},
   "outputs": [
    {
     "data": {
      "text/plain": [
       "{'S': 40, 'a': 40, 'm': 40, 'o': 40, 's': 40}"
      ]
     },
     "execution_count": 135,
     "metadata": {},
     "output_type": "execute_result"
    }
   ],
   "source": [
    "dict1.fromkeys(\"Samosa\",40)"
   ]
  },
  {
   "cell_type": "code",
   "execution_count": 137,
   "id": "a4664c4a-877a-4819-a549-9f4c442f456e",
   "metadata": {},
   "outputs": [
    {
     "data": {
      "text/plain": [
       "30"
      ]
     },
     "execution_count": 137,
     "metadata": {},
     "output_type": "execute_result"
    }
   ],
   "source": [
    "dict1.get(\"Samosa\")"
   ]
  },
  {
   "cell_type": "code",
   "execution_count": 138,
   "id": "4e49549f-d788-46e5-a463-cd0b2b815b60",
   "metadata": {},
   "outputs": [
    {
     "data": {
      "text/plain": [
       "35"
      ]
     },
     "execution_count": 138,
     "metadata": {},
     "output_type": "execute_result"
    }
   ],
   "source": [
    "dict1.get(\"AlluTikki\")"
   ]
  },
  {
   "cell_type": "code",
   "execution_count": 139,
   "id": "5cf0b09e-f3eb-40cd-bd37-951481adee9f",
   "metadata": {},
   "outputs": [
    {
     "data": {
      "text/plain": [
       "dict_items([('Samosa', 30), ('Pakora', 100), ('Raita', 30), ('Salad', 40), ('Chicken_Rolls', 30), ('Tikki', 50), ('AlluTikki', 35), ('Special Chat Masala', 40), ('Dates', 50), ('Chocoltes', 200), ('Sweya', 1000)])"
      ]
     },
     "execution_count": 139,
     "metadata": {},
     "output_type": "execute_result"
    }
   ],
   "source": [
    "dict1.items()"
   ]
  },
  {
   "cell_type": "code",
   "execution_count": 140,
   "id": "abbf6407-3ed4-44aa-99e4-5687a9e89ea6",
   "metadata": {},
   "outputs": [
    {
     "data": {
      "text/plain": [
       "dict_keys(['Samosa', 'Pakora', 'Raita', 'Salad', 'Chicken_Rolls', 'Tikki', 'AlluTikki', 'Special Chat Masala', 'Dates', 'Chocoltes', 'Sweya'])"
      ]
     },
     "execution_count": 140,
     "metadata": {},
     "output_type": "execute_result"
    }
   ],
   "source": [
    "dict1.keys()"
   ]
  },
  {
   "cell_type": "code",
   "execution_count": 7,
   "id": "49293f27-7414-41fa-96a9-14161a56e39f",
   "metadata": {},
   "outputs": [
    {
     "data": {
      "text/plain": [
       "{'Samosa': 30, 'Pakora': 100, 'Raita': 20, 'Salad': 40, 'Chicken_Rolls': 30}"
      ]
     },
     "execution_count": 7,
     "metadata": {},
     "output_type": "execute_result"
    }
   ],
   "source": [
    "dict1"
   ]
  },
  {
   "cell_type": "code",
   "execution_count": 12,
   "id": "2836c82a-b6fd-4346-91b8-878309181477",
   "metadata": {},
   "outputs": [
    {
     "data": {
      "text/plain": [
       "{'Samosa': 30,\n",
       " 'Pakora': 100,\n",
       " 'Raita': 20,\n",
       " 'Salad': 40,\n",
       " 'Chicken_Rolls': 30,\n",
       " 'yougurt': 50}"
      ]
     },
     "execution_count": 12,
     "metadata": {},
     "output_type": "execute_result"
    }
   ],
   "source": [
    "dict1[\"yougurt\"]=50\n",
    "dict1"
   ]
  },
  {
   "cell_type": "code",
   "execution_count": 14,
   "id": "03a3804a-ad6d-4c9e-a5ae-e17ea1ece18a",
   "metadata": {},
   "outputs": [
    {
     "data": {
      "text/plain": [
       "{'Samosa': 30,\n",
       " 'Pakora': 100,\n",
       " 'Raita': 20,\n",
       " 'Salad': 40,\n",
       " 'Chicken_Rolls': 30,\n",
       " 'yougurt': 80}"
      ]
     },
     "execution_count": 14,
     "metadata": {},
     "output_type": "execute_result"
    }
   ],
   "source": [
    "dict1[\"yougurt\"]=80\n",
    "dict1"
   ]
  },
  {
   "cell_type": "code",
   "execution_count": 15,
   "id": "e78b0ff8-1e86-4215-8f82-38aa0f2a95db",
   "metadata": {},
   "outputs": [
    {
     "data": {
      "text/plain": [
       "30"
      ]
     },
     "execution_count": 15,
     "metadata": {},
     "output_type": "execute_result"
    }
   ],
   "source": [
    "dict1.pop(\"Samosa\",5)"
   ]
  },
  {
   "cell_type": "code",
   "execution_count": 24,
   "id": "08495648-e89d-459c-bfe3-1d61a6425b09",
   "metadata": {},
   "outputs": [
    {
     "data": {
      "text/plain": [
       "{'Pakora': 100, 'Raita': 40, 'Salad': 40, 'Chicken_Rolls': 30}"
      ]
     },
     "execution_count": 24,
     "metadata": {},
     "output_type": "execute_result"
    }
   ],
   "source": [
    "dict1"
   ]
  },
  {
   "cell_type": "code",
   "execution_count": 18,
   "id": "d2b3deaa-23d9-40d8-80a9-485b20ebc848",
   "metadata": {},
   "outputs": [
    {
     "data": {
      "text/plain": [
       "('yougurt', 80)"
      ]
     },
     "execution_count": 18,
     "metadata": {},
     "output_type": "execute_result"
    }
   ],
   "source": [
    "dict1.popitem()"
   ]
  },
  {
   "cell_type": "code",
   "execution_count": 20,
   "id": "c0ecc684-4efc-4a82-bdb9-e7303c908228",
   "metadata": {},
   "outputs": [
    {
     "data": {
      "text/plain": [
       "100"
      ]
     },
     "execution_count": 20,
     "metadata": {},
     "output_type": "execute_result"
    }
   ],
   "source": [
    "dict1.setdefault(\"Pakora\")"
   ]
  },
  {
   "cell_type": "code",
   "execution_count": 27,
   "id": "6a27a4c4-7adf-41f8-83bb-a0d4653b2f20",
   "metadata": {},
   "outputs": [],
   "source": [
    "dict1.update(Raita=40)"
   ]
  },
  {
   "cell_type": "code",
   "execution_count": 28,
   "id": "07fe453a-f6ef-46a5-a4a2-0f45817fcedc",
   "metadata": {},
   "outputs": [
    {
     "data": {
      "text/plain": [
       "{'Pakora': 100, 'Raita': 40, 'Salad': 40, 'Chicken_Rolls': 30}"
      ]
     },
     "execution_count": 28,
     "metadata": {},
     "output_type": "execute_result"
    }
   ],
   "source": [
    "dict1"
   ]
  },
  {
   "cell_type": "code",
   "execution_count": 29,
   "id": "84d4eb9f-705e-43a1-9aa1-05746b32cf69",
   "metadata": {},
   "outputs": [
    {
     "data": {
      "text/plain": [
       "dict_values([100, 40, 40, 30])"
      ]
     },
     "execution_count": 29,
     "metadata": {},
     "output_type": "execute_result"
    }
   ],
   "source": [
    "dict1.values()"
   ]
  },
  {
   "cell_type": "markdown",
   "id": "effdd30e-da95-488b-978e-10127ade82da",
   "metadata": {},
   "source": [
    "## 4- Sets\n",
    "- Unordered and un Indexed Collection of elemnets\n",
    "- Curly braces are used\n",
    "- No duplicates allowed"
   ]
  },
  {
   "cell_type": "code",
   "execution_count": 30,
   "id": "584d6850-5907-4c0a-a23d-ab3142de7f0d",
   "metadata": {},
   "outputs": [
    {
     "data": {
      "text/plain": [
       "{1, 2.1, 5.3, 'Ammar', 'Codanics', 'Faislabad'}"
      ]
     },
     "execution_count": 30,
     "metadata": {},
     "output_type": "execute_result"
    }
   ],
   "source": [
    "s1={1,2.1,5.3,\"Ammar\",\"Codanics\",\"Faislabad\"}\n",
    "s1"
   ]
  },
  {
   "cell_type": "code",
   "execution_count": 31,
   "id": "6d9ec69d-4fe4-4309-8b4d-8a3932eb44fb",
   "metadata": {},
   "outputs": [],
   "source": [
    "s1.add(\"Ammar\")"
   ]
  },
  {
   "cell_type": "code",
   "execution_count": 32,
   "id": "c5a1dd95-de7d-4f12-923c-fad9f613edb5",
   "metadata": {},
   "outputs": [
    {
     "data": {
      "text/plain": [
       "{1, 2.1, 5.3, 'Ammar', 'Codanics', 'Faislabad'}"
      ]
     },
     "execution_count": 32,
     "metadata": {},
     "output_type": "execute_result"
    }
   ],
   "source": [
    "s1"
   ]
  },
  {
   "cell_type": "code",
   "execution_count": 33,
   "id": "c913ba12-988b-4b2f-83cb-e207bab17c2d",
   "metadata": {},
   "outputs": [],
   "source": [
    "s1.add(\"Ammar1\")"
   ]
  },
  {
   "cell_type": "code",
   "execution_count": 34,
   "id": "a98ec7f3-5abe-4c02-bbe8-242a1451ccd8",
   "metadata": {},
   "outputs": [
    {
     "data": {
      "text/plain": [
       "{1, 2.1, 5.3, 'Ammar', 'Ammar1', 'Codanics', 'Faislabad'}"
      ]
     },
     "execution_count": 34,
     "metadata": {},
     "output_type": "execute_result"
    }
   ],
   "source": [
    "s1"
   ]
  },
  {
   "cell_type": "code",
   "execution_count": 35,
   "id": "3364520b-0114-4c5a-9447-33c9311d1a38",
   "metadata": {},
   "outputs": [
    {
     "data": {
      "text/plain": [
       "{1, 2.1, 5.3, 'Ammar', 'Ammar1', 'Codanics', 'Faislabad'}"
      ]
     },
     "execution_count": 35,
     "metadata": {},
     "output_type": "execute_result"
    }
   ],
   "source": [
    "s1.copy()"
   ]
  },
  {
   "cell_type": "code",
   "execution_count": 36,
   "id": "142f0ed8-f3de-419e-aca5-ec36e3f8fbe4",
   "metadata": {},
   "outputs": [
    {
     "data": {
      "text/plain": [
       "{1, 2.1, 5.3, 'Ammar', 'Ammar1', 'Codanics', 'Faislabad'}"
      ]
     },
     "execution_count": 36,
     "metadata": {},
     "output_type": "execute_result"
    }
   ],
   "source": [
    "s1.difference()"
   ]
  },
  {
   "cell_type": "code",
   "execution_count": 37,
   "id": "cad3e2cc-e690-4e68-b8ed-d4a551a05e4e",
   "metadata": {},
   "outputs": [],
   "source": [
    "s1.difference_update()\n"
   ]
  },
  {
   "cell_type": "code",
   "execution_count": 38,
   "id": "de1c9159-d5d6-4af6-8d5b-c64cd0649d90",
   "metadata": {},
   "outputs": [
    {
     "data": {
      "text/plain": [
       "{1, 2.1, 5.3, 'Ammar', 'Ammar1', 'Codanics', 'Faislabad'}"
      ]
     },
     "execution_count": 38,
     "metadata": {},
     "output_type": "execute_result"
    }
   ],
   "source": [
    "s1"
   ]
  },
  {
   "cell_type": "code",
   "execution_count": 39,
   "id": "6fef1128-a935-43ec-ad90-67052ae94d5c",
   "metadata": {},
   "outputs": [],
   "source": [
    "s1.discard(\"Ammar1\")"
   ]
  },
  {
   "cell_type": "code",
   "execution_count": 40,
   "id": "5789ab82-cc85-4f5c-bbb7-fa36b878792d",
   "metadata": {},
   "outputs": [
    {
     "data": {
      "text/plain": [
       "{1, 2.1, 5.3, 'Ammar', 'Codanics', 'Faislabad'}"
      ]
     },
     "execution_count": 40,
     "metadata": {},
     "output_type": "execute_result"
    }
   ],
   "source": [
    "s1"
   ]
  },
  {
   "cell_type": "code",
   "execution_count": 41,
   "id": "b0126baf-2478-41b5-b726-fbf25ef4eb92",
   "metadata": {},
   "outputs": [
    {
     "data": {
      "text/plain": [
       "{2, 3, 4, 'Alpha', 'Bravo', 'Charlie'}"
      ]
     },
     "execution_count": 41,
     "metadata": {},
     "output_type": "execute_result"
    }
   ],
   "source": [
    "s2={2,3,4,\"Alpha\",\"Bravo\",\"Charlie\"}\n",
    "s2"
   ]
  },
  {
   "cell_type": "code",
   "execution_count": 42,
   "id": "a95961eb-7a86-4f1c-bed8-45160ad3d043",
   "metadata": {},
   "outputs": [
    {
     "data": {
      "text/plain": [
       "set()"
      ]
     },
     "execution_count": 42,
     "metadata": {},
     "output_type": "execute_result"
    }
   ],
   "source": [
    "s1.intersection(s2)"
   ]
  },
  {
   "cell_type": "code",
   "execution_count": 43,
   "id": "dae0cc5f-a92b-4001-a245-0fe04d601a61",
   "metadata": {},
   "outputs": [
    {
     "data": {
      "text/plain": [
       "{1, 2.1, 5.3, 'Ammar', 'Codanics', 'Faislabad'}"
      ]
     },
     "execution_count": 43,
     "metadata": {},
     "output_type": "execute_result"
    }
   ],
   "source": [
    "s1"
   ]
  },
  {
   "cell_type": "code",
   "execution_count": 44,
   "id": "da8b406c-16bb-4f35-9204-6881d9514930",
   "metadata": {},
   "outputs": [],
   "source": [
    "s1.intersection_update(s2)"
   ]
  },
  {
   "cell_type": "code",
   "execution_count": 45,
   "id": "fdc74209-1122-4b44-8149-8eb477c23e9a",
   "metadata": {},
   "outputs": [
    {
     "data": {
      "text/plain": [
       "set()"
      ]
     },
     "execution_count": 45,
     "metadata": {},
     "output_type": "execute_result"
    }
   ],
   "source": [
    "s1"
   ]
  },
  {
   "cell_type": "code",
   "execution_count": 46,
   "id": "1ddfca30-b604-43df-bac5-353ee973eb0f",
   "metadata": {},
   "outputs": [
    {
     "data": {
      "text/plain": [
       "set"
      ]
     },
     "execution_count": 46,
     "metadata": {},
     "output_type": "execute_result"
    }
   ],
   "source": [
    "type(s1)"
   ]
  },
  {
   "cell_type": "code",
   "execution_count": 48,
   "id": "f0e42ed1-ddee-44eb-8047-7497c0f721aa",
   "metadata": {},
   "outputs": [
    {
     "data": {
      "text/plain": [
       "0"
      ]
     },
     "execution_count": 48,
     "metadata": {},
     "output_type": "execute_result"
    }
   ],
   "source": [
    "len(s1)"
   ]
  },
  {
   "cell_type": "code",
   "execution_count": 52,
   "id": "28719186-032c-4093-827c-61b826a1ceef",
   "metadata": {},
   "outputs": [
    {
     "data": {
      "text/plain": [
       "True"
      ]
     },
     "execution_count": 52,
     "metadata": {},
     "output_type": "execute_result"
    }
   ],
   "source": [
    "s1.isdisjoint(s2)"
   ]
  },
  {
   "cell_type": "code",
   "execution_count": 53,
   "id": "840de2e2-e036-4418-ac31-7c7eaf6caf06",
   "metadata": {},
   "outputs": [
    {
     "data": {
      "text/plain": [
       "True"
      ]
     },
     "execution_count": 53,
     "metadata": {},
     "output_type": "execute_result"
    }
   ],
   "source": [
    "s1.issubset(s2)"
   ]
  },
  {
   "cell_type": "code",
   "execution_count": 54,
   "id": "b8105eee-07d1-4cb1-9c46-560124f4a928",
   "metadata": {},
   "outputs": [
    {
     "data": {
      "text/plain": [
       "False"
      ]
     },
     "execution_count": 54,
     "metadata": {},
     "output_type": "execute_result"
    }
   ],
   "source": [
    "s1.issuperset(s2)"
   ]
  },
  {
   "cell_type": "code",
   "execution_count": 55,
   "id": "1331aa83-3342-4bf8-874b-0f290d934e3d",
   "metadata": {},
   "outputs": [
    {
     "data": {
      "text/plain": [
       "True"
      ]
     },
     "execution_count": 55,
     "metadata": {},
     "output_type": "execute_result"
    }
   ],
   "source": [
    "s2.issuperset(s1)"
   ]
  },
  {
   "cell_type": "code",
   "execution_count": 59,
   "id": "ace97f76-efd0-4095-9856-3bcfca802472",
   "metadata": {},
   "outputs": [
    {
     "data": {
      "text/plain": [
       "2"
      ]
     },
     "execution_count": 59,
     "metadata": {},
     "output_type": "execute_result"
    }
   ],
   "source": [
    "s2.pop()"
   ]
  },
  {
   "cell_type": "code",
   "execution_count": 60,
   "id": "35e9258f-4d49-41cd-a65e-be196a3ab0a9",
   "metadata": {},
   "outputs": [
    {
     "data": {
      "text/plain": [
       "set()"
      ]
     },
     "execution_count": 60,
     "metadata": {},
     "output_type": "execute_result"
    }
   ],
   "source": [
    "s1"
   ]
  },
  {
   "cell_type": "code",
   "execution_count": 61,
   "id": "ffa1341f-e6bc-4493-9e15-f21008f41fe9",
   "metadata": {},
   "outputs": [
    {
     "data": {
      "text/plain": [
       "{3, 4, 'Alpha', 'Bravo', 'Charlie'}"
      ]
     },
     "execution_count": 61,
     "metadata": {},
     "output_type": "execute_result"
    }
   ],
   "source": [
    "s2"
   ]
  },
  {
   "cell_type": "code",
   "execution_count": 64,
   "id": "6cc15525-7ca6-442f-811f-fa6fcadef785",
   "metadata": {},
   "outputs": [
    {
     "data": {
      "text/plain": [
       "{3, 4.5, 6.7, 'Rast', 'id'}"
      ]
     },
     "execution_count": 64,
     "metadata": {},
     "output_type": "execute_result"
    }
   ],
   "source": [
    "s1={3,4.5,6.7,\"Rast\",\"id\"}\n",
    "s1"
   ]
  },
  {
   "cell_type": "code",
   "execution_count": 63,
   "id": "dffeb487-8e3f-4aa9-9ab2-ce7e9ecde8d5",
   "metadata": {},
   "outputs": [],
   "source": [
    "s1.remove(3)"
   ]
  },
  {
   "cell_type": "code",
   "execution_count": 65,
   "id": "647500ac-1110-4c76-80d0-688b2a4f484e",
   "metadata": {},
   "outputs": [
    {
     "data": {
      "text/plain": [
       "{3, 4.5, 6.7, 'Rast', 'id'}"
      ]
     },
     "execution_count": 65,
     "metadata": {},
     "output_type": "execute_result"
    }
   ],
   "source": [
    "s1"
   ]
  },
  {
   "cell_type": "code",
   "execution_count": 68,
   "id": "df8b38c9-c0b8-4e1e-937c-06282ad1e30d",
   "metadata": {},
   "outputs": [
    {
     "data": {
      "text/plain": [
       "{0}"
      ]
     },
     "execution_count": 68,
     "metadata": {},
     "output_type": "execute_result"
    }
   ],
   "source": [
    "dic1={0}\n",
    "dic1"
   ]
  },
  {
   "cell_type": "markdown",
   "id": "312734d5-7ac1-4fea-92c5-0d1e247110ad",
   "metadata": {},
   "source": [
    "# Practice Questions of above practices or topics"
   ]
  },
  {
   "cell_type": "markdown",
   "id": "ccc1d966-b47a-4893-8378-ff50a8ea035d",
   "metadata": {},
   "source": [
    "# - Q.NO:1\n",
    "### Scenerio:\n",
    "- A university stores each student’s roll number and name as a tuple. You are given a list of such tuples. Print all student names.\n",
    "- Data: students = [(101, \"Ali\"), (102, \"Sara\"), (103, \"Ahmed\")]\n",
    "\n"
   ]
  },
  {
   "cell_type": "code",
   "execution_count": 2,
   "id": "840e4822-01e7-4607-b2e0-5c9e3474643a",
   "metadata": {},
   "outputs": [
    {
     "data": {
      "text/plain": [
       "{'Ali': 101, 'Sara': 102, 'Ahmad': 103}"
      ]
     },
     "execution_count": 2,
     "metadata": {},
     "output_type": "execute_result"
    }
   ],
   "source": [
    "# Method 1\n",
    "dict1={\"Ali\":101,\"Sara\":102,\"Ahmad\":103}\n",
    "dict1"
   ]
  },
  {
   "cell_type": "code",
   "execution_count": 13,
   "id": "6318a9ba-5181-4c1c-9cd5-48cc4c505aef",
   "metadata": {},
   "outputs": [
    {
     "name": "stdout",
     "output_type": "stream",
     "text": [
      "Enter number of studnets :  1\n",
      "Enter Name :  Fahad\n",
      "Enter Roll NO :  101\n"
     ]
    },
    {
     "name": "stdout",
     "output_type": "stream",
     "text": [
      "Student Record is :  {'Fahad': 101}\n"
     ]
    }
   ],
   "source": [
    "# Method 2\n",
    "def record():\n",
    "    dict1={}\n",
    "    num=int(input(\"Enter number of studnets : \"))\n",
    "    for i in range(num):\n",
    "        values=input(\"Enter Name : \")\n",
    "        keys=int(input(\"Enter Roll NO : \"))\n",
    "        dict1[values]=keys\n",
    "    print(\"Student Record is : \",dict1)\n",
    "record()"
   ]
  },
  {
   "cell_type": "code",
   "execution_count": 21,
   "id": "f0571e3f-c2ac-4335-af6d-fb82c5ef5184",
   "metadata": {},
   "outputs": [
    {
     "name": "stdout",
     "output_type": "stream",
     "text": [
      "Enter num :  1\n",
      "Enter name :  fahd\n",
      "Enter RollNo :  101\n"
     ]
    },
    {
     "name": "stdout",
     "output_type": "stream",
     "text": [
      "[('fahd', 101)]\n"
     ]
    }
   ],
   "source": [
    "# Method 3\n",
    "def record():\n",
    "    tup1=[]\n",
    "    num=int(input(\"Enter num : \"))\n",
    "    for i in range(num):\n",
    "        name=input(\"Enter name : \")\n",
    "        rollno=int(input(\"Enter RollNo : \"))\n",
    "        tup1.append((name,rollno))\n",
    "    print(tup1)\n",
    "record()"
   ]
  },
  {
   "cell_type": "markdown",
   "id": "ecc0dec0-6dc1-46e6-a6d0-db8a3b1c92b1",
   "metadata": {},
   "source": [
    "# -Q.NO:2\n",
    "### Scenerio:\n",
    "- Scenario: Create a to-do list. Add 3 tasks, remove the second one, and display the final list.\n"
   ]
  },
  {
   "cell_type": "code",
   "execution_count": 24,
   "id": "1f13361e-0993-46ab-83c9-a349c0c76d9e",
   "metadata": {},
   "outputs": [
    {
     "data": {
      "text/plain": [
       "['Fahad', 'Ali']"
      ]
     },
     "execution_count": 24,
     "metadata": {},
     "output_type": "execute_result"
    }
   ],
   "source": [
    "# Method 1\n",
    "list1=[\"Fahad\",\"Ahmad\",\"Ali\"]\n",
    "list1.pop(1)\n",
    "list1"
   ]
  },
  {
   "cell_type": "code",
   "execution_count": 29,
   "id": "15bd3ed6-c607-4811-a02a-510577bda800",
   "metadata": {},
   "outputs": [
    {
     "name": "stdout",
     "output_type": "stream",
     "text": [
      "Enter num :  3\n",
      "Enter Name :  fahs\n",
      "Enter Name :  ahmad\n",
      "Enter Name :  ali\n"
     ]
    },
    {
     "name": "stdout",
     "output_type": "stream",
     "text": [
      "['fahs', 'ali']\n"
     ]
    }
   ],
   "source": [
    "# Method 2\n",
    "def fun():\n",
    "    list1=[]\n",
    "    num=int(input(\"Enter num : \"))\n",
    "    for i in range(num):\n",
    "        name=input(\"Enter Name : \")\n",
    "        list1.append(name)\n",
    "    list1.pop(1)\n",
    "    print(list1)\n",
    "fun()\n",
    "    "
   ]
  },
  {
   "cell_type": "markdown",
   "id": "3e603d3e-5611-4599-9053-f73d1cdc70b5",
   "metadata": {},
   "source": [
    "# -Q.NO:3\n",
    "### Scenerio:\n",
    "- You need to store the names of cities in such a way that each city name appears only once (no duplicates)."
   ]
  },
  {
   "cell_type": "code",
   "execution_count": 31,
   "id": "99f2fee2-028c-46cf-9d76-199baa5629c3",
   "metadata": {},
   "outputs": [
    {
     "data": {
      "text/plain": [
       "{'Islamabad', 'Karachi', 'Lahore'}"
      ]
     },
     "execution_count": 31,
     "metadata": {},
     "output_type": "execute_result"
    }
   ],
   "source": [
    "# Method 1\n",
    "list1={\"Lahore\",\"Karachi\",\"Lahore\",\"Islamabad\",\"Karachi\"}\n",
    "list1"
   ]
  },
  {
   "cell_type": "code",
   "execution_count": 36,
   "id": "d0c1afb1-54ec-42ad-8ae5-2d8318e2b2d6",
   "metadata": {},
   "outputs": [
    {
     "name": "stdout",
     "output_type": "stream",
     "text": [
      "Enter Num :  5\n",
      "Enter city name :  lahore\n",
      "Enter city name :  karachi\n",
      "Enter city name :  lahore\n",
      "Enter city name :  islamabafd\n",
      "Enter city name :  karachi\n"
     ]
    },
    {
     "name": "stdout",
     "output_type": "stream",
     "text": [
      "{'islamabafd', 'karachi', 'lahore'}\n"
     ]
    }
   ],
   "source": [
    "# Method 2\n",
    "def city():\n",
    "    city=set()\n",
    "    num=int(input(\"Enter Num : \"))\n",
    "    for i in range(num):\n",
    "        name=input(\"Enter city name : \")\n",
    "        city.add(name)\n",
    "    print(city)\n",
    "city()"
   ]
  },
  {
   "cell_type": "markdown",
   "id": "a3f3528b-55ab-41a5-9ee6-fdb14c77c098",
   "metadata": {},
   "source": [
    "# -Q.NO:5\n",
    "### Scenerio:\n",
    "- Suppose you’re building a small employee management module in Python.\n",
    "You need to store each employee’s data (name, age, and designation).\n",
    "You want to be able to search employees by their name too."
   ]
  },
  {
   "cell_type": "code",
   "execution_count": 43,
   "id": "595f22ef-c0dd-4f82-b0e3-9ec98b4384f6",
   "metadata": {},
   "outputs": [
    {
     "data": {
      "text/plain": [
       "(23, 16)"
      ]
     },
     "execution_count": 43,
     "metadata": {},
     "output_type": "execute_result"
    }
   ],
   "source": [
    "# Method 1\n",
    "dict={\"Ahsan\":(22,15),\"Ali\":(23,16),\"Ahmad\":(24,17)}\n",
    "dict\n",
    "type(dict)\n",
    "dict.get(\"Ali\")"
   ]
  },
  {
   "cell_type": "code",
   "execution_count": 47,
   "id": "df354c12-cad3-4a06-95b3-ced649ae39f5",
   "metadata": {},
   "outputs": [
    {
     "name": "stdout",
     "output_type": "stream",
     "text": [
      "1- Add Employee : \n",
      "2- search Employee : \n"
     ]
    },
    {
     "name": "stdout",
     "output_type": "stream",
     "text": [
      "Enter Choice :  2\n",
      "Enter name :  as\n"
     ]
    },
    {
     "name": "stdout",
     "output_type": "stream",
     "text": [
      "Employee Data is :  None\n",
      "Employee data is :  {}\n"
     ]
    }
   ],
   "source": [
    "# Method 2\n",
    "def fun():\n",
    "    dict={}\n",
    "    print(\"1- Add Employee : \")\n",
    "    print(\"2- search Employee : \")\n",
    "    choice=int(input(\"Enter Choice : \"))\n",
    "    if(choice==1):\n",
    "        num=int(input(\"Enter number of employees : \"))\n",
    "        for i in range(num):\n",
    "            name=input(\"Enter name : \")\n",
    "            age=int(input(\"Enter age : \"))\n",
    "            designation=int(input(\"Enter designation : \"))\n",
    "            dict[name]=(age,designation)\n",
    "            print(\"Employee is added Successfully\")\n",
    "    elif(choice==2):\n",
    "        name=input(\"Enter name : \")\n",
    "        print(\"Employee Data is : \",dict.get(name))\n",
    "    else:{\n",
    "    print(\"Invalid choice\")\n",
    "    }\n",
    "    print(\"Employee data is : \",dict)\n",
    "fun()"
   ]
  },
  {
   "cell_type": "code",
   "execution_count": null,
   "id": "4bdc68b4-0fc2-467a-af5c-efef2efebdc9",
   "metadata": {},
   "outputs": [],
   "source": [
    "# Method 3\n",
    "def fun():\n",
    "    list=[]\n",
    "    num=int(input(\"Enter num : \"))\n",
    "    for i in range (num):\n",
    "        name=input(\"Enter name : \")\n",
    "        age=int(input(\"Enter age : \"))\n",
    "        designation=int(input(\"Enter designation : \")) \n",
    "        list.append((name,age,designation))\n",
    "    print(\"Employee data is : \",list)\n",
    "fun()\n",
    "    "
   ]
  },
  {
   "cell_type": "markdown",
   "id": "601b3a7e-be7e-4c84-b810-20d197e28e58",
   "metadata": {},
   "source": [
    "# -Q.NO:6\n",
    "- same as above"
   ]
  },
  {
   "cell_type": "markdown",
   "id": "792f76d1-e72a-4823-89b6-feddf9dbb1f9",
   "metadata": {},
   "source": [
    "# -Q.NO:7\n",
    "### Scenerio:\n",
    "- Suppose you’re writing a Python program to find out which students are enrolled in both Math and Physics classes."
   ]
  },
  {
   "cell_type": "code",
   "execution_count": 62,
   "id": "603af113-2785-48d8-997f-3ce800776103",
   "metadata": {},
   "outputs": [
    {
     "data": {
      "text/plain": [
       "{'Ali', 'Rizwan', 'Zafar'}"
      ]
     },
     "execution_count": 62,
     "metadata": {},
     "output_type": "execute_result"
    }
   ],
   "source": [
    "# Method 1\n",
    "Math={\"Ali\",\"Ahmad\",\"Rizwan\",\"Zafar\"}\n",
    "Physics={\"Ali\",\"Arslan\",\"Zafar\",\"Rizwan\"}\n",
    "combine=Math&Physics\n",
    "combine"
   ]
  },
  {
   "cell_type": "code",
   "execution_count": 7,
   "id": "46e6d6da-36eb-4512-98e8-e0bc5679bb6d",
   "metadata": {},
   "outputs": [
    {
     "name": "stdout",
     "output_type": "stream",
     "text": [
      "1- insert in physics\n",
      "2- insert in Math\n"
     ]
    },
    {
     "name": "stdout",
     "output_type": "stream",
     "text": [
      "Enter choice / Exit(0) :  1\n",
      "Enter Name / Exit(0) :  fahd\n",
      "Enter Name / Exit(0) :  ali\n",
      "Enter Name / Exit(0) :  rizwan\n",
      "Enter Name / Exit(0) :  ahmad\n",
      "Enter Name / Exit(0) :  zafar\n",
      "Enter Name / Exit(0) :  0\n"
     ]
    },
    {
     "name": "stdout",
     "output_type": "stream",
     "text": [
      "1- insert in physics\n",
      "2- insert in Math\n"
     ]
    },
    {
     "name": "stdout",
     "output_type": "stream",
     "text": [
      "Enter choice / Exit(0) :  2\n",
      "Enter Name / Exit(0) :  ali\n",
      "Enter Name / Exit(0) :  rizwan\n",
      "Enter Name / Exit(0) :  fahad\n",
      "Enter Name / Exit(0) :  ghazali\n",
      "Enter Name / Exit(0) :  arslan\n",
      "Enter Name / Exit(0) :  0\n"
     ]
    },
    {
     "name": "stdout",
     "output_type": "stream",
     "text": [
      "1- insert in physics\n",
      "2- insert in Math\n"
     ]
    },
    {
     "name": "stdout",
     "output_type": "stream",
     "text": [
      "Enter choice / Exit(0) :  0\n"
     ]
    },
    {
     "name": "stdout",
     "output_type": "stream",
     "text": [
      "Student result is :  {'ali', 'rizwan'}\n"
     ]
    }
   ],
   "source": [
    "# Method 2\n",
    "def fun():\n",
    "    Physics=set()\n",
    "    Math=set()\n",
    "    while(True):\n",
    "        \n",
    "        print(\"1- insert in physics\")\n",
    "        print(\"2- insert in Math\")\n",
    "        choice=int(input(\"Enter choice / Exit(0) : \"))\n",
    "        if(choice==0):\n",
    "            break\n",
    "        elif(choice==1):\n",
    "            while(True):\n",
    "                name=input(\"Enter Name / Exit(0) : \")\n",
    "                if(name==\"0\"):\n",
    "                     break\n",
    "                else:\n",
    "                    Physics.add(name)\n",
    "        elif(choice==2):\n",
    "            while(True):\n",
    "                name=input(\"Enter Name / Exit(0) : \")\n",
    "                if(name==\"0\"):\n",
    "                     break\n",
    "                else:\n",
    "                    Math.add(name)\n",
    "        else:\n",
    "            print(\"invalid choice\")\n",
    "    combine=Physics&Math\n",
    "    print(\"Student result is : \",combine)\n",
    "\n",
    "\n",
    "fun()\n"
   ]
  },
  {
   "cell_type": "markdown",
   "id": "50261f30-8c1b-4213-af3b-99ec22b52cf4",
   "metadata": {},
   "source": [
    "# -Q.NO:8\n",
    "### Scenerio:\n",
    "- Imagine you are writing a Python program to manage student data.\n",
    "You need to:\n",
    "    - Store each student’s name, age, and marks.\n",
    "    - Display only the names of those students whose marks are 20 or more."
   ]
  },
  {
   "cell_type": "code",
   "execution_count": 11,
   "id": "83c82dcb-47b6-4614-bf92-8d9fab7b2785",
   "metadata": {},
   "outputs": [
    {
     "name": "stdout",
     "output_type": "stream",
     "text": [
      "Fahad\n",
      "Ahamd\n"
     ]
    }
   ],
   "source": [
    "# Method 1\n",
    "student=[\n",
    "    {\"Name\":\"Fahad\",\"Age\":18,\"Marks\":20},\n",
    "    {\"Name\":\"Ahamd\",\"Age\":20,\"Marks\":22},\n",
    "    {\"Name\":\"Ali\",\"Age\":22,\"Marks\":18}]\n",
    "student\n",
    "for i in student:\n",
    "    if(i[\"Marks\"]>=20):\n",
    "        print(i[\"Name\"])"
   ]
  },
  {
   "cell_type": "code",
   "execution_count": 18,
   "id": "dd4b4709-84b5-48dd-9ed7-246b340083a7",
   "metadata": {},
   "outputs": [
    {
     "name": "stdout",
     "output_type": "stream",
     "text": [
      "Enter num :  2\n",
      "Enter Name :  fahad\n",
      "Enter age :  18\n",
      "Enter marks :  22\n",
      "Enter Name :  ali\n",
      "Enter age :  22\n",
      "Enter marks :  18\n"
     ]
    },
    {
     "name": "stdout",
     "output_type": "stream",
     "text": [
      "fahad\n"
     ]
    }
   ],
   "source": [
    "# Method 2\n",
    "def record():\n",
    "    student=[]\n",
    "    num=int(input(\"Enter num : \"))\n",
    "    for i in range(num):\n",
    "        Name=input(\"Enter Name : \")\n",
    "        Age=int(input(\"Enter age : \"))\n",
    "        Marks=int(input(\"Enter marks : \"))\n",
    "        student.append({\"Name : \":Name,\"Age : \":Age,\"Marks : \":Marks})\n",
    "    for i in student:\n",
    "        if(i[\"Marks : \"]>=20):\n",
    "            print(i[\"Name : \"])\n",
    "record()"
   ]
  },
  {
   "cell_type": "markdown",
   "id": "a465f3ed-c91b-4459-a873-62f885f3a392",
   "metadata": {},
   "source": [
    "# Q.N0:9\n",
    "### Scenerio:\n",
    "- Imagine you’re writing a Python program for a school to keep track of which students are enrolled in which subjects.\n",
    "\n"
   ]
  },
  {
   "cell_type": "code",
   "execution_count": 21,
   "id": "10c0d2d2-b141-4f03-ab8f-64d7255e405e",
   "metadata": {},
   "outputs": [
    {
     "data": {
      "text/plain": [
       "{'physics': ['Ali', 'Raza', 'Ahmad'],\n",
       " 'Chemistry': ['Ahmad', 'Ghazali'],\n",
       " 'Physics': ['Nasir', 'Noman']}"
      ]
     },
     "execution_count": 21,
     "metadata": {},
     "output_type": "execute_result"
    }
   ],
   "source": [
    "# Method 1\n",
    "record={\n",
    "    \"physics\":[\"Ali\",\"Raza\",\"Ahmad\"],\n",
    "    \"Chemistry\":[\"Ahmad\",\"Ghazali\"],\n",
    "    \"Physics\":[\"Nasir\",\"Noman\"]}\n",
    "record"
   ]
  },
  {
   "cell_type": "code",
   "execution_count": 26,
   "id": "29945ccc-5b89-479b-aea6-72b3f1e5ff37",
   "metadata": {},
   "outputs": [
    {
     "name": "stdout",
     "output_type": "stream",
     "text": [
      "1- Physics\n",
      "2- Chemistry\n",
      "3- Math\n"
     ]
    },
    {
     "name": "stdout",
     "output_type": "stream",
     "text": [
      "Enter choice / Exit(0) :  1\n",
      "Enter Name / Exit (0) :  fahad\n",
      "Enter Name / Exit (0) :  ali\n",
      "Enter Name / Exit (0) :  rizwan\n",
      "Enter Name / Exit (0) :  0\n"
     ]
    },
    {
     "name": "stdout",
     "output_type": "stream",
     "text": [
      "1- Physics\n",
      "2- Chemistry\n",
      "3- Math\n"
     ]
    },
    {
     "name": "stdout",
     "output_type": "stream",
     "text": [
      "Enter choice / Exit(0) :  2\n",
      "Enter Name / Exit (0) :  Mohsin\n",
      "Enter Name / Exit (0) :  Qasim\n",
      "Enter Name / Exit (0) :  Raza\n",
      "Enter Name / Exit (0) :  0\n"
     ]
    },
    {
     "name": "stdout",
     "output_type": "stream",
     "text": [
      "1- Physics\n",
      "2- Chemistry\n",
      "3- Math\n"
     ]
    },
    {
     "name": "stdout",
     "output_type": "stream",
     "text": [
      "Enter choice / Exit(0) :  3\n",
      "Enter Name / Exit (0) :  Fawad\n",
      "Enter Name / Exit (0) :  0\n"
     ]
    },
    {
     "name": "stdout",
     "output_type": "stream",
     "text": [
      "1- Physics\n",
      "2- Chemistry\n",
      "3- Math\n"
     ]
    },
    {
     "name": "stdout",
     "output_type": "stream",
     "text": [
      "Enter choice / Exit(0) :  0\n"
     ]
    },
    {
     "name": "stdout",
     "output_type": "stream",
     "text": [
      "{'Physics': ['fahad', 'ali', 'rizwan'], 'Chemistry': ['Mohsin', 'Qasim', 'Raza'], 'Math': ['Fawad']}\n"
     ]
    }
   ],
   "source": [
    "# Method 2\n",
    "def records():\n",
    "    record={\n",
    "        \"Physics\":[],\n",
    "        \"Chemistry\":[],\n",
    "        \"Math\":[]\n",
    "    }\n",
    "    \n",
    "    while(True):\n",
    "        print(\"1- Physics\")\n",
    "        print(\"2- Chemistry\")\n",
    "        print(\"3- Math\")\n",
    "        choice=int(input(\"Enter choice / Exit(0) : \"))\n",
    "        if(choice==0):\n",
    "            break\n",
    "        elif(choice==1):\n",
    "            while(True):\n",
    "                Name=input(\"Enter Name / Exit (0) : \")\n",
    "                if(Name==\"0\"):\n",
    "                    break\n",
    "                else:\n",
    "                    record[\"Physics\"].append(Name)\n",
    "        elif(choice==2):\n",
    "            while(True):\n",
    "                Name=input(\"Enter Name / Exit (0) : \")\n",
    "                if(Name==\"0\"):\n",
    "                    break\n",
    "                else:\n",
    "                    record[\"Chemistry\"].append(Name)\n",
    "        elif(choice==3):\n",
    "            while(True):\n",
    "                Name=input(\"Enter Name / Exit (0) : \")\n",
    "                if(Name==\"0\"):\n",
    "                    break\n",
    "                else:\n",
    "                    record[\"Math\"].append(Name)\n",
    "        else:\n",
    "            print(\"Invalid Choice\")\n",
    "    print(record)\n",
    "records()"
   ]
  },
  {
   "cell_type": "markdown",
   "id": "fe551905-9e43-4f92-81a3-11ca901d38a8",
   "metadata": {},
   "source": [
    "# Q.NO:10\n",
    "### Scenerio:\n",
    "- Imagine you’re writing a simple employee management program to keep track of employees’ names, ages, and salaries.\n",
    "The data is stored as a list of dictionaries where:\n",
    "    - Each dictionary holds one employee’s data.\n",
    "    - The list keeps all employees."
   ]
  },
  {
   "cell_type": "code",
   "execution_count": 29,
   "id": "d8a4facc-3921-40bf-973f-03015e751c93",
   "metadata": {},
   "outputs": [
    {
     "data": {
      "text/plain": [
       "[{'Name : ': 'Faraz', 'Age : ': 18, 'Salary : ': 20000},\n",
       " {'Name : ': 'Safdar', 'Age : ': 20, 'Salary : ': 30000}]"
      ]
     },
     "execution_count": 29,
     "metadata": {},
     "output_type": "execute_result"
    }
   ],
   "source": [
    "# Method 1\n",
    "# Combination of list and dictionary\n",
    "employee=[\n",
    "    {\"Name : \":\"Faraz\",\"Age : \":18,\"Salary : \":20000},\n",
    "    {\"Name : \":\"Safdar\",\"Age : \":20,\"Salary : \":30000}\n",
    "]\n",
    "employee"
   ]
  },
  {
   "cell_type": "code",
   "execution_count": 42,
   "id": "b8ee8481-fc4f-4427-b0e8-bd0b995e5e9c",
   "metadata": {},
   "outputs": [
    {
     "name": "stdout",
     "output_type": "stream",
     "text": [
      "Enter num :  3\n",
      "Enter name :  fahad\n",
      "Enter age :  23\n",
      "Enter Salary :  23000\n",
      "Enter name :  aliu\n",
      "Enter age :  22\n",
      "Enter Salary :  24000\n",
      "Enter name :  kashif\n",
      "Enter age :  22\n",
      "Enter Salary :  35000\n"
     ]
    },
    {
     "name": "stdout",
     "output_type": "stream",
     "text": [
      "[{'Name : ': 'fahad', 'Age : ': 23, 'Salary : ': 23000}, {'Name : ': 'aliu', 'Age : ': 22, 'Salary : ': 24000}, {'Name : ': 'kashif', 'Age : ': 22, 'Salary : ': 35000}]\n"
     ]
    }
   ],
   "source": [
    "# Method 2\n",
    "# list and dictionary\n",
    "def fun():\n",
    "    employee=[]\n",
    "    num=int(input(\"Enter num : \"))\n",
    "    for i in range(num):\n",
    "        name=input(\"Enter name : \")\n",
    "        age=int(input(\"Enter age : \"))\n",
    "        salary=int(input(\"Enter Salary : \"))\n",
    "        dic={\"Name : \":name,\"Age : \":age,\"Salary : \":salary}\n",
    "        employee.append(dic)\n",
    "    for i in employee:\n",
    "        if(i[\"Salary : \"]>=20000):\n",
    "            i[\"Name : \"]\n",
    "    print(employee)\n",
    "fun()"
   ]
  },
  {
   "cell_type": "markdown",
   "id": "df35c2b7-aa8d-4f30-98d3-975adbc736f0",
   "metadata": {},
   "source": [
    "# Q.NO:11\n",
    "### Scenerio:\n",
    "- Imagine you’re building a small inventory management program for a shop.\n",
    "- You need to store details of products: product name, price, and quantity available.\n",
    "- You choose to store each product as a tuple and keep all products together inside a list"
   ]
  },
  {
   "cell_type": "code",
   "execution_count": 43,
   "id": "0a282547-2980-447b-b22b-5c8d53931954",
   "metadata": {},
   "outputs": [
    {
     "data": {
      "text/plain": [
       "[('Pen', 20, 5), ('Register', 150, 50), ('Calculator', 450, 10)]"
      ]
     },
     "execution_count": 43,
     "metadata": {},
     "output_type": "execute_result"
    }
   ],
   "source": [
    "# Method 1\n",
    "list=[\n",
    "    (\"Pen\",20,5),\n",
    "    (\"Register\",150,50),\n",
    "    (\"Calculator\",450,10)\n",
    "]\n",
    "list"
   ]
  },
  {
   "cell_type": "code",
   "execution_count": 44,
   "id": "a06d97bb-acf4-4d65-bd8e-982e44ff5a52",
   "metadata": {},
   "outputs": [
    {
     "name": "stdout",
     "output_type": "stream",
     "text": [
      "Enter num :  2\n",
      "Enter Product name :  removere\n",
      "Enter price :  20\n",
      "Enter quantity :  50\n",
      "Enter Product name :  regiuster\n",
      "Enter price :  150\n",
      "Enter quantity :  50\n"
     ]
    },
    {
     "name": "stdout",
     "output_type": "stream",
     "text": [
      "[('removere', 20, 50), ('regiuster', 150, 50)]\n"
     ]
    }
   ],
   "source": [
    "# Method 2\n",
    "def fun():\n",
    "    list=[]\n",
    "    num=int(input(\"Enter num : \"))\n",
    "    for i in range(num):\n",
    "        name=input(\"Enter Product name : \")\n",
    "        price=int(input(\"Enter price : \"))\n",
    "        quantity=int(input(\"Enter quantity : \"))\n",
    "        tuple=(name,price,quantity)\n",
    "        list.append(tuple)\n",
    "    print(list)\n",
    "fun()"
   ]
  },
  {
   "cell_type": "markdown",
   "id": "9d256a7b-ee7d-48f3-9d51-0d2ac238b35d",
   "metadata": {},
   "source": [
    "# Q.NO:12\n",
    "### Scenerio:\n",
    "- Imagine you’re writing a small HR system that keeps track of employees in each department.\n",
    "You decide to use:\n",
    "A dictionary: each department name as the key.\n",
    "Each value: a list of dictionaries where each dictionary stores an employee’s name."
   ]
  },
  {
   "cell_type": "code",
   "execution_count": 46,
   "id": "4fceee65-06c8-4ddd-9a4d-fc5f429e4931",
   "metadata": {},
   "outputs": [
    {
     "data": {
      "text/plain": [
       "{'Sales': [{'Name : ': 'Ali'}, {'Name : ': 'Rizwan'}],\n",
       " 'Hr': [{'Name : ': 'Qasim'}, {'Name : ': 'Zafar'}]}"
      ]
     },
     "execution_count": 46,
     "metadata": {},
     "output_type": "execute_result"
    }
   ],
   "source": [
    "# Method 1\n",
    "dic={\n",
    "    \"Sales\":[{\"Name : \":\"Ali\"},{\"Name : \":\"Rizwan\"}],\n",
    "    \"Hr\":[{\"Name : \":\"Qasim\"},{\"Name : \":\"Zafar\"}]\n",
    "}\n",
    "dic"
   ]
  },
  {
   "cell_type": "code",
   "execution_count": 55,
   "id": "7cd70af0-5cb7-4154-b15c-8546e818543a",
   "metadata": {},
   "outputs": [
    {
     "name": "stdout",
     "output_type": "stream",
     "text": [
      "Enter num / Exit(0) :  2\n",
      "Enter list name :  sales\n",
      "Enter name :  fahad\n",
      "Enter name :  ali\n"
     ]
    },
    {
     "ename": "TypeError",
     "evalue": "unhashable type: 'list'",
     "output_type": "error",
     "traceback": [
      "\u001b[1;31m---------------------------------------------------------------------------\u001b[0m",
      "\u001b[1;31mTypeError\u001b[0m                                 Traceback (most recent call last)",
      "Cell \u001b[1;32mIn[55], line 16\u001b[0m\n\u001b[0;32m     14\u001b[0m         dic1[name1]\u001b[38;5;241m=\u001b[39mname2\n\u001b[0;32m     15\u001b[0m     \u001b[38;5;28mprint\u001b[39m(dic1)\n\u001b[1;32m---> 16\u001b[0m fun()\n",
      "Cell \u001b[1;32mIn[55], line 14\u001b[0m, in \u001b[0;36mfun\u001b[1;34m()\u001b[0m\n\u001b[0;32m     12\u001b[0m         dic2\u001b[38;5;241m=\u001b[39m{\u001b[38;5;124m\"\u001b[39m\u001b[38;5;124mName : \u001b[39m\u001b[38;5;124m\"\u001b[39m:name2}\n\u001b[0;32m     13\u001b[0m         name1\u001b[38;5;241m.\u001b[39mappend(dic2)\n\u001b[1;32m---> 14\u001b[0m     dic1[name1]\u001b[38;5;241m=\u001b[39mname2\n\u001b[0;32m     15\u001b[0m \u001b[38;5;28mprint\u001b[39m(dic1)\n",
      "\u001b[1;31mTypeError\u001b[0m: unhashable type: 'list'"
     ]
    }
   ],
   "source": [
    "## Method 2\n",
    "def fun():\n",
    "    dic1={}\n",
    "    while(True):\n",
    "        num=int(input(\"Enter num / Exit(0) : \"))\n",
    "        if(num==0):\n",
    "            break\n",
    "        name1=input(\"Enter list name : \")\n",
    "        name1=[]\n",
    "        for i in range(num):\n",
    "            name2=input(\"Enter name : \")\n",
    "            dic2={\"Name : \":name2}\n",
    "            name1.append(dic2)\n",
    "        dic1[name1]=name2\n",
    "    print(dic1)\n",
    "fun()\n",
    "        "
   ]
  }
 ],
 "metadata": {
  "kernelspec": {
   "display_name": "Python 3 (ipykernel)",
   "language": "python",
   "name": "python3"
  },
  "language_info": {
   "codemirror_mode": {
    "name": "ipython",
    "version": 3
   },
   "file_extension": ".py",
   "mimetype": "text/x-python",
   "name": "python",
   "nbconvert_exporter": "python",
   "pygments_lexer": "ipython3",
   "version": "3.12.7"
  }
 },
 "nbformat": 4,
 "nbformat_minor": 5
}
